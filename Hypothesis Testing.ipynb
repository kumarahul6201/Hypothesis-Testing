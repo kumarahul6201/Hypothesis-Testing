{
 "cells": [
  {
   "cell_type": "code",
   "execution_count": 1,
   "id": "8b89b686",
   "metadata": {},
   "outputs": [
    {
     "name": "stdout",
     "output_type": "stream",
     "text": [
      "Sample Mean: 3050\n",
      "Theoretical Mean: 4000\n",
      "Standard Deviation: 125\n",
      "Sample Size: 25\n",
      "Test Statistic: -38.0\n",
      "Critical Value: 1.6448536269514722\n",
      "Reject Null Hypothesis: False\n",
      "Conclusion: There is not enough evidence to support the restaurant owners' claim that the weekly operating costs are higher than the model suggests.\n"
     ]
    }
   ],
   "source": [
    "import scipy.stats as stats\n",
    "import math\n",
    "\n",
    "# Given data\n",
    "sample_mean = 3050  # Rs.\n",
    "theoretical_mean = 1000 + 5 * 600  # Rs.\n",
    "std_dev = 5 * 25  # Rs.\n",
    "sample_size = 25\n",
    "\n",
    "# Step 2: Calculate the Test Statistic\n",
    "standard_error = std_dev / math.sqrt(sample_size)\n",
    "test_statistic = (sample_mean - theoretical_mean) / standard_error\n",
    "\n",
    "# Step 3: Determine the Critical Value\n",
    "alpha = 0.05\n",
    "critical_value = stats.norm.ppf(1 - alpha)  # for a one-tailed test\n",
    "\n",
    "# Step 4: Make a Decision\n",
    "reject_null = test_statistic > critical_value\n",
    "\n",
    "# Step 5: Conclusion\n",
    "if reject_null:\n",
    "    conclusion = \"There is strong evidence to support the restaurant owners' claim that the weekly operating costs are higher than the model suggests.\"\n",
    "else:\n",
    "    conclusion = \"There is not enough evidence to support the restaurant owners' claim that the weekly operating costs are higher than the model suggests.\"\n",
    "\n",
    "# Output the results\n",
    "print(f\"Sample Mean: {sample_mean}\")\n",
    "print(f\"Theoretical Mean: {theoretical_mean}\")\n",
    "print(f\"Standard Deviation: {std_dev}\")\n",
    "print(f\"Sample Size: {sample_size}\")\n",
    "print(f\"Test Statistic: {test_statistic}\")\n",
    "print(f\"Critical Value: {critical_value}\")\n",
    "print(f\"Reject Null Hypothesis: {reject_null}\")\n",
    "print(f\"Conclusion: {conclusion}\")\n"
   ]
  },
  {
   "cell_type": "code",
   "execution_count": null,
   "id": "ec7adaea",
   "metadata": {},
   "outputs": [],
   "source": []
  }
 ],
 "metadata": {
  "kernelspec": {
   "display_name": "Python 3 (ipykernel)",
   "language": "python",
   "name": "python3"
  },
  "language_info": {
   "codemirror_mode": {
    "name": "ipython",
    "version": 3
   },
   "file_extension": ".py",
   "mimetype": "text/x-python",
   "name": "python",
   "nbconvert_exporter": "python",
   "pygments_lexer": "ipython3",
   "version": "3.11.5"
  }
 },
 "nbformat": 4,
 "nbformat_minor": 5
}
